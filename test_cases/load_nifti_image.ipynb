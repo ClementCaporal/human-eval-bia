{
 "cells": [
  {
   "cell_type": "code",
   "execution_count": 3,
   "metadata": {},
   "outputs": [],
   "source": [
    "def load_nifti_image(image_location):\n",
    "    \"\"\"\n",
    "    This function loads a nifti image from the file at image_location and returns the image data as a numpy array. \n",
    "    \"\"\"\n",
    "    \n",
    "    import nibabel as nib\n",
    "    import numpy as nb\n",
    "\n",
    "    img = nib.load(image_location)\n",
    "    data = img.get_fdata()\n",
    "    return(data)"
   ]
  },
  {
   "cell_type": "code",
   "execution_count": 6,
   "metadata": {},
   "outputs": [],
   "source": [
    "def check(candidate):\n",
    "    import numpy as np\n",
    "\n",
    "    reference = np.ones((5, 5, 5), dtype=np.int16)\n",
    "\n",
    "    image_location = '../example_data/test3d.nii.gz'\n",
    "    data = candidate(image_location)\n",
    "    assert np.array_equal(data, reference)"
   ]
  },
  {
   "cell_type": "code",
   "execution_count": 7,
   "metadata": {},
   "outputs": [],
   "source": [
    "check(load_nifti_image)"
   ]
  },
  {
   "cell_type": "code",
   "execution_count": null,
   "metadata": {},
   "outputs": [],
   "source": []
  }
 ],
 "metadata": {
  "kernelspec": {
   "display_name": "heb",
   "language": "python",
   "name": "python3"
  },
  "language_info": {
   "codemirror_mode": {
    "name": "ipython",
    "version": 3
   },
   "file_extension": ".py",
   "mimetype": "text/x-python",
   "name": "python",
   "nbconvert_exporter": "python",
   "pygments_lexer": "ipython3",
   "version": "3.10.14"
  }
 },
 "nbformat": 4,
 "nbformat_minor": 2
}
