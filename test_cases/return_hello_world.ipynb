{
 "cells": [
  {
   "cell_type": "code",
   "execution_count": 1,
   "id": "379be22d-e5f6-41d7-b171-f9f02742fd15",
   "metadata": {},
   "outputs": [],
   "source": [
    "def return_hello_world():\n",
    "    \"\"\"\n",
    "    Returns the string \"hello world\".\n",
    "    \"\"\"\n",
    "    return \"hello world\""
   ]
  },
  {
   "cell_type": "code",
   "execution_count": 2,
   "id": "e2c6981f-99ff-4b38-b150-fe03dfdac762",
   "metadata": {},
   "outputs": [],
   "source": [
    "def check(candidate):\n",
    "    assert candidate() == \"hello world\""
   ]
  },
  {
   "cell_type": "code",
   "execution_count": 3,
   "id": "e4789ed1-dc01-46a6-80b2-dd98d8d7b875",
   "metadata": {},
   "outputs": [],
   "source": [
    "check(return_hello_world)"
   ]
  },
  {
   "cell_type": "code",
   "execution_count": null,
   "id": "b38939da-37b8-4572-8227-b35354f3d60d",
   "metadata": {},
   "outputs": [],
   "source": []
  }
 ],
 "metadata": {
  "kernelspec": {
   "display_name": "Python 3 (ipykernel)",
   "language": "python",
   "name": "python3"
  },
  "language_info": {
   "codemirror_mode": {
    "name": "ipython",
    "version": 3
   },
   "file_extension": ".py",
   "mimetype": "text/x-python",
   "name": "python",
   "nbconvert_exporter": "python",
   "pygments_lexer": "ipython3",
   "version": "3.10.14"
  }
 },
 "nbformat": 4,
 "nbformat_minor": 5
}
