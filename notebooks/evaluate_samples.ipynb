{
 "cells": [
  {
   "cell_type": "code",
   "execution_count": 1,
   "id": "726e33d1-047a-46e1-94ea-807f651e3b41",
   "metadata": {},
   "outputs": [],
   "source": [
    "from human_eval.evaluation import evaluate_functional_correctness"
   ]
  },
  {
   "cell_type": "code",
   "execution_count": 2,
   "id": "04d34ad7-a2c1-4341-8a80-5f45d98edbd0",
   "metadata": {},
   "outputs": [],
   "source": [
    "problem_file = '../data/human-eval-bia.jsonl'\n",
    "k = [1, 10]\n",
    "timeout = 3\n",
    "n_workers = 1 # 4"
   ]
  },
  {
   "cell_type": "code",
   "execution_count": null,
   "id": "311041ff-837e-428a-b10c-730e7fe53357",
   "metadata": {},
   "outputs": [],
   "source": [
    "sample_file = 'samples_gpt-3.5-turbo-1106.jsonl'\n",
    "\n",
    "results = evaluate_functional_correctness(sample_file, k, n_workers, timeout, problem_file)"
   ]
  },
  {
   "cell_type": "code",
   "execution_count": 3,
   "id": "69287f52-d21a-47c1-afd7-b8ef5c0d355b",
   "metadata": {},
   "outputs": [
    {
     "name": "stdout",
     "output_type": "stream",
     "text": [
      "Reading samples...\n"
     ]
    },
    {
     "name": "stderr",
     "output_type": "stream",
     "text": [
      "8it [00:00, 926.25it/s]\n"
     ]
    },
    {
     "name": "stdout",
     "output_type": "stream",
     "text": [
      "Running test suites...\n"
     ]
    },
    {
     "name": "stderr",
     "output_type": "stream",
     "text": [
      "100%|████████████████████████████████████████████████████████████████████████████████████| 8/8 [00:02<00:00,  2.91it/s]\n"
     ]
    },
    {
     "name": "stdout",
     "output_type": "stream",
     "text": [
      "Writing results to samples_codellama.jsonl_results.jsonl...\n"
     ]
    },
    {
     "name": "stderr",
     "output_type": "stream",
     "text": [
      "100%|██████████████████████████████████████████████████████████████████████████████████| 8/8 [00:00<00:00, 9034.58it/s]\n"
     ]
    }
   ],
   "source": [
    "sample_file = 'samples_codellama.jsonl'\n",
    "\n",
    "results = evaluate_functional_correctness(sample_file, k, n_workers, timeout, problem_file)"
   ]
  },
  {
   "cell_type": "code",
   "execution_count": null,
   "id": "0dfdd6e0-5b97-4368-8d7d-5061927ce299",
   "metadata": {},
   "outputs": [],
   "source": [
    "sample_file = 'samples_gemini-pro.jsonl'\n",
    "\n",
    "results = evaluate_functional_correctness(sample_file, k, n_workers, timeout, problem_file)"
   ]
  },
  {
   "cell_type": "code",
   "execution_count": null,
   "id": "63414a63-d091-4501-8810-049b2fba6f29",
   "metadata": {},
   "outputs": [],
   "source": []
  }
 ],
 "metadata": {
  "kernelspec": {
   "display_name": "Python 3 (ipykernel)",
   "language": "python",
   "name": "python3"
  },
  "language_info": {
   "codemirror_mode": {
    "name": "ipython",
    "version": 3
   },
   "file_extension": ".py",
   "mimetype": "text/x-python",
   "name": "python",
   "nbconvert_exporter": "python",
   "pygments_lexer": "ipython3",
   "version": "3.10.14"
  }
 },
 "nbformat": 4,
 "nbformat_minor": 5
}
