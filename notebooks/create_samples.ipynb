{
 "cells": [
  {
   "cell_type": "code",
   "execution_count": 1,
   "id": "ad39f74d-59a7-452d-a58a-22733972468c",
   "metadata": {},
   "outputs": [],
   "source": [
    "from human_eval.data import write_jsonl, read_problems"
   ]
  },
  {
   "cell_type": "code",
   "execution_count": 2,
   "id": "884ab012-19e0-4c0e-abff-151b7c037dbf",
   "metadata": {},
   "outputs": [],
   "source": [
    "from bia_bob import bob"
   ]
  },
  {
   "cell_type": "code",
   "execution_count": 7,
   "id": "8cef5591-9401-4cb7-ae41-366c6e76e04e",
   "metadata": {},
   "outputs": [],
   "source": [
    "#from bia_bob._machinery import OLLAMA_BASE_URL\n",
    "#base_url = OLLAMA_BASE_URL\n",
    "#model='codellama'\n",
    "#bob.initialize(endpoint='ollama', model=model)"
   ]
  },
  {
   "cell_type": "code",
   "execution_count": 8,
   "id": "71c3cfca-7d4c-4bae-a05a-70f4cd5ec9e3",
   "metadata": {},
   "outputs": [],
   "source": [
    "base_url = None\n",
    "model='gpt-3.5-turbo-1106'\n",
    "bob.initialize(model=model)"
   ]
  },
  {
   "cell_type": "code",
   "execution_count": 9,
   "id": "80cce42e-f999-4c09-a53d-7092b314879c",
   "metadata": {},
   "outputs": [],
   "source": [
    "def generate_one_completion(prompt):\n",
    "    from bia_bob._utilities import generate_response_from_openai\n",
    "    \n",
    "    response = generate_response_from_openai(model=model, system_prompt='', user_prompt=prompt, chat_history=[], base_url=base_url)\n",
    "\n",
    "    if '[PYTHON]' in response and '[/PYTHON]' in response:\n",
    "        response = response.replace('[PYTHON]', '```')\n",
    "        response = response.replace('[/PYTHON]', '```')\n",
    "        \n",
    "    if '```' in response:\n",
    "        response = response.replace('```python', '```')\n",
    "        \n",
    "        response = response.split('```')[-2]\n",
    "\n",
    "    print(\"Q:\", prompt)\n",
    "    print(\"A:\", response)\n",
    "    \n",
    "    return response"
   ]
  },
  {
   "cell_type": "code",
   "execution_count": 10,
   "id": "f0d7ccad-0e34-4790-ad5e-7898c0b0223a",
   "metadata": {},
   "outputs": [
    {
     "name": "stdout",
     "output_type": "stream",
     "text": [
      "Q: import skimage\n",
      "import numpy as np\n",
      "\n",
      "def label_binary_image_and_count_labels(binary_image):\n",
      "    \"\"\"\n",
      "    Consumes as input a binary image, applies connected component labeling to it, \n",
      "    counts the labeled objects and returns their count as single number.\n",
      "    \"\"\"\n",
      "A: \n",
      "    labeled_image, num_labels = skimage.measure.label(binary_image, background=0, return_num=True)\n",
      "    return num_labels\n",
      "\n",
      "Q: import skimage\n",
      "import numpy as np\n",
      "\n",
      "def apply_otsu_threshold_and_count_postiive_pixels(image):\n",
      "    \"\"\"\n",
      "    Takes an image, applies Otus's threshold method to it to create a binary image and \n",
      "    counts the positive pixels.\n",
      "    \"\"\"\n",
      "A: \n",
      "from skimage import filters\n",
      "import numpy as np\n",
      "\n",
      "def apply_otsu_threshold_and_count_postiive_pixels(image):\n",
      "    threshold_value = filters.threshold_otsu(image)\n",
      "    binary_image = image > threshold_value\n",
      "    positive_pixels_count = np.sum(binary_image)\n",
      "    return binary_image, positive_pixels_count\n",
      "\n",
      "Q: import skimage\n",
      "import numpy as np\n",
      "\n",
      "def label_binary_image_and_count_labels(binary_image):\n",
      "    \"\"\"\n",
      "    Consumes as input a binary image, applies connected component labeling to it, \n",
      "    counts the labeled objects and returns their count as single number.\n",
      "    \"\"\"\n",
      "A: \n",
      "    # Convert the image to uint8\n",
      "    binary_image = binary_image.astype(np.uint8)\n",
      "\n",
      "    # Perform connected component labeling\n",
      "    labeled_image, num_labels = skimage.measure.label(binary_image, return_num=True)\n",
      "\n",
      "    # Return the count of labeled objects\n",
      "    return num_labels\n",
      "\n",
      "Q: import skimage\n",
      "import numpy as np\n",
      "\n",
      "def apply_otsu_threshold_and_count_postiive_pixels(image):\n",
      "    \"\"\"\n",
      "    Takes an image, applies Otus's threshold method to it to create a binary image and \n",
      "    counts the positive pixels.\n",
      "    \"\"\"\n",
      "A: \n",
      "import skimage.filters\n",
      "\n",
      "def apply_otsu_threshold_and_count_postiive_pixels(image):\n",
      "    \"\"\"\n",
      "    Takes an image, applies Otus's threshold method to it to create a binary image and \n",
      "    counts the positive pixels.\n",
      "    \"\"\"\n",
      "    # Apply Otsu's thresholding to create a binary image\n",
      "    threshold = skimage.filters.threshold_otsu(image)\n",
      "    binary_image = image > threshold\n",
      "    \n",
      "    # Count positive pixels\n",
      "    positive_pixels_count = np.sum(binary_image)\n",
      "\n",
      "    return positive_pixels_count\n",
      "\n"
     ]
    }
   ],
   "source": [
    "problems = read_problems('../data/human-eval-bia.jsonl')\n",
    "\n",
    "num_samples_per_task = 2\n",
    "samples = [\n",
    "    dict(task_id=task_id, completion=generate_one_completion(problems[task_id][\"prompt\"]))\n",
    "    for _ in range(num_samples_per_task)\n",
    "    for task_id in problems\n",
    "]\n",
    "write_jsonl(f\"samples_{model}.jsonl\", samples)"
   ]
  },
  {
   "cell_type": "code",
   "execution_count": null,
   "id": "27b71358-71f4-4719-91f5-6e1608b94b44",
   "metadata": {},
   "outputs": [],
   "source": []
  }
 ],
 "metadata": {
  "kernelspec": {
   "display_name": "Python 3 (ipykernel)",
   "language": "python",
   "name": "python3"
  },
  "language_info": {
   "codemirror_mode": {
    "name": "ipython",
    "version": 3
   },
   "file_extension": ".py",
   "mimetype": "text/x-python",
   "name": "python",
   "nbconvert_exporter": "python",
   "pygments_lexer": "ipython3",
   "version": "3.9.16"
  }
 },
 "nbformat": 4,
 "nbformat_minor": 5
}
