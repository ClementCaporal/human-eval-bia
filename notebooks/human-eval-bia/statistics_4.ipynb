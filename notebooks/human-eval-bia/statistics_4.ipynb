{
 "cells": [
  {
   "cell_type": "code",
   "execution_count": 1,
   "id": "b27a1d0e-e184-425b-9944-0e354aad8b08",
   "metadata": {},
   "outputs": [],
   "source": [
    "def pair_wise_correlation_matrix(dataframe):\n",
    "    \"\"\"\n",
    "    Takes a pandas dataframe and computes for all columns their Pearson's correlation coefficient\n",
    "    for all columns in the dataframe. For n columns, this is a n x n matrix of coefficients.\n",
    "    The matrix is returned as dataframe.\n",
    "    \"\"\"\n",
    "    return dataframe.corr()"
   ]
  },
  {
   "cell_type": "code",
   "execution_count": 2,
   "id": "2243e607-8d2d-4a77-b612-64d8223d70db",
   "metadata": {},
   "outputs": [],
   "source": [
    "def check(candidate):\n",
    "    import pandas as pd\n",
    "    df = pd.DataFrame(\n",
    "        {\n",
    "         \"a\":[1.6,2.3,2.6,3.7,3.4,3.9,4.3,4.3,4.0,5.1,5.2,5.3,5.5], \n",
    "         \"b\":[0.1,0.2,0.3,0.3,0.4,0.4,0.4,0.5,0.5,0.5,0.6,0.6,0.6],\n",
    "         \"c\":[1.6,2.3,2.6,3.7,3.4,3.9,4.3,4.3,4.0,5.1,5.2,5.3,5.4],\n",
    "         \"d\":[1.7,2.4,2.4,3.6,3.5,3.9,4.4,4.2,4.1,5.0,5.1,5.4,5.6],\n",
    "         \"e\":[1.7,2.4,2.4,3.6,3.5,3.9,4.4,4.2,4.1,5.0,5.1,5.4,5.6]\n",
    "        }\n",
    "    )\n",
    "\n",
    "    result = candidate(df)\n",
    "\n",
    "    print(result)\n",
    "\n",
    "    assert 'a' in result.columns\n",
    "    assert 'b' in result.columns\n",
    "    assert 'c' in result.columns\n",
    "    assert 'd' in result.columns\n",
    "    assert 'e' in result.columns\n",
    "\n",
    "    assert abs(result['a'].iloc[0] - 1) < 0.0001\n",
    "    assert abs(result['b'].iloc[1] - 1) < 0.0001\n",
    "    assert abs(result['c'].iloc[2] - 1) < 0.0001\n",
    "    assert abs(result['d'].iloc[3] - 1) < 0.0001\n",
    "    assert abs(result['e'].iloc[4] - 1) < 0.0001\n",
    "\n",
    "    # columns d and e are identical\n",
    "    assert abs(result['e'].iloc[3] - 1) < 0.0001\n",
    "    \n",
    "    assert result.size == 25"
   ]
  },
  {
   "cell_type": "code",
   "execution_count": 3,
   "id": "577fd3b1-aa81-40c0-8a27-88e86ba48718",
   "metadata": {},
   "outputs": [
    {
     "name": "stdout",
     "output_type": "stream",
     "text": [
      "          a         b         c         d         e\n",
      "a  1.000000  0.949504  0.999775  0.995800  0.995800\n",
      "b  0.949504  1.000000  0.949594  0.946039  0.946039\n",
      "c  0.999775  0.949594  1.000000  0.995001  0.995001\n",
      "d  0.995800  0.946039  0.995001  1.000000  1.000000\n",
      "e  0.995800  0.946039  0.995001  1.000000  1.000000\n"
     ]
    }
   ],
   "source": [
    "check(pair_wise_correlation_matrix)"
   ]
  },
  {
   "cell_type": "code",
   "execution_count": null,
   "id": "d470d040-51c2-4b57-a8bd-82565c6e1642",
   "metadata": {},
   "outputs": [],
   "source": []
  }
 ],
 "metadata": {
  "kernelspec": {
   "display_name": "Python 3 (ipykernel)",
   "language": "python",
   "name": "python3"
  },
  "language_info": {
   "codemirror_mode": {
    "name": "ipython",
    "version": 3
   },
   "file_extension": ".py",
   "mimetype": "text/x-python",
   "name": "python",
   "nbconvert_exporter": "python",
   "pygments_lexer": "ipython3",
   "version": "3.10.14"
  }
 },
 "nbformat": 4,
 "nbformat_minor": 5
}
