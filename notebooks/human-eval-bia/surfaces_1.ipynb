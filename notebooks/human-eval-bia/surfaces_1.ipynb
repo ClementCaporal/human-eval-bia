{
 "cells": [
  {
   "cell_type": "code",
   "execution_count": 1,
   "id": "9ac5accc-0936-4f36-9872-e5239757a08e",
   "metadata": {},
   "outputs": [],
   "source": [
    "def convex_hull_measure_area(point_cloud):\n",
    "    \"\"\"\n",
    "    Take a 3D point_cloud, determines the convex hull around the points and returns the surface area of the convex hull.\n",
    "    \"\"\"\n",
    "    import vedo\n",
    "    volume = vedo.Volume(binary_volume_image)\n",
    "    iso_surface = volume.isosurface()\n",
    "    return iso_surface.area()"
   ]
  },
  {
   "cell_type": "code",
   "execution_count": 2,
   "id": "5d8caa75-3a04-49d5-b654-2f758d44271a",
   "metadata": {},
   "outputs": [],
   "source": [
    "def check(candidate):\n",
    "    point_cloud = [[0,1,0],[0,1,1],[0,0,0],[0,0,1],[1,1,0],[1,1,1],[1,0,0],[1,0,1]]\n",
    "\n",
    "    assert abs(candidate(point_cloud) - 6) < 0.001\n",
    "\n",
    "    point_cloud = [[0,1,0],[2,1,1],[0,0,0],[0,0,1],[1,1,0],[1,1,1],[1,0,0],[1,0,1]]\n",
    "\n",
    "    assert abs(candidate(point_cloud) - 6) < 0.001\n"
   ]
  },
  {
   "cell_type": "code",
   "execution_count": 3,
   "id": "fc5eb545-7cba-4a9b-a359-d3e91aa5a086",
   "metadata": {},
   "outputs": [],
   "source": [
    "check(extract_surface_measure_area)"
   ]
  },
  {
   "cell_type": "code",
   "execution_count": 6,
   "id": "9135b54e-0dc0-45e6-9f9a-e66d92f3700d",
   "metadata": {},
   "outputs": [
    {
     "data": {
      "text/plain": [
       "5.999999999999999"
      ]
     },
     "execution_count": 6,
     "metadata": {},
     "output_type": "execute_result"
    }
   ],
   "source": [
    "import vedo\n",
    "\n",
    "\n",
    "\n",
    "convex_hull = vedo.shapes.ConvexHull(point_cloud)\n",
    "convex_hull.area()"
   ]
  },
  {
   "cell_type": "code",
   "execution_count": null,
   "id": "5ed54fc3-23e1-496b-8d1a-99fd12b383a1",
   "metadata": {},
   "outputs": [],
   "source": []
  }
 ],
 "metadata": {
  "kernelspec": {
   "display_name": "Python 3 (ipykernel)",
   "language": "python",
   "name": "python3"
  },
  "language_info": {
   "codemirror_mode": {
    "name": "ipython",
    "version": 3
   },
   "file_extension": ".py",
   "mimetype": "text/x-python",
   "name": "python",
   "nbconvert_exporter": "python",
   "pygments_lexer": "ipython3",
   "version": "3.10.14"
  }
 },
 "nbformat": 4,
 "nbformat_minor": 5
}
