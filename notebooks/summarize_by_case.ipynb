{
 "cells": [
  {
   "cell_type": "code",
   "execution_count": null,
   "id": "d7c80449-8b7b-41a7-a92c-f7edfd443e46",
   "metadata": {},
   "outputs": [],
   "source": [
    "import pandas as pd\n",
    "import os"
   ]
  },
  {
   "cell_type": "code",
   "execution_count": null,
   "id": "c7abf5c6-62ac-4597-8aec-b5b9ab9503b3",
   "metadata": {},
   "outputs": [],
   "source": [
    "collection = []\n",
    "for filename in os.listdir(\".\"):\n",
    "    if filename.endswith(\"_results.jsonl\"):\n",
    "        df = pd.read_json(filename, lines=True)\n",
    "        df['model'] = filename.replace(\".jsonl_results.jsonl\", \"\").replace(\"samples_\", \"\")\n",
    "        collection.append(df)\n",
    "\n",
    "df = pd.concat(collection)"
   ]
  },
  {
   "cell_type": "code",
   "execution_count": null,
   "id": "a2cceb48-c75c-4b76-a984-322f3a055062",
   "metadata": {},
   "outputs": [],
   "source": [
    "df"
   ]
  },
  {
   "cell_type": "code",
   "execution_count": null,
   "id": "34e3e374-ff7e-48d2-abb7-dfd69a07a060",
   "metadata": {},
   "outputs": [],
   "source": [
    "df = df[df['model'] == 'gpt-4-1106-preview']"
   ]
  },
  {
   "cell_type": "code",
   "execution_count": null,
   "id": "98cf7273-69ac-40fc-9fd1-8a48c947d47b",
   "metadata": {},
   "outputs": [],
   "source": [
    "# Group by task_id and count 'passed' status for each group\n",
    "passed_counts = df.groupby('task_id')['passed'].sum()\n",
    "\n",
    "# Display the result\n",
    "passed_counts"
   ]
  },
  {
   "cell_type": "code",
   "execution_count": null,
   "id": "3f9332cf-dc79-4a9d-bb08-9fd1aa14495b",
   "metadata": {},
   "outputs": [],
   "source": [
    "df1 = df[df['task_id'] == \"./human-eval-bia/measure_0.ipynb\"]\n",
    "df2 = df1[df1['model'] == 'gpt-4-1106-preview']\n",
    "for c, r in zip(df2['completion'], df2['result']):\n",
    "    print('-----', r, \":\")\n",
    "    print(c)"
   ]
  },
  {
   "cell_type": "code",
   "execution_count": null,
   "id": "0c7a15c9-0ec4-45d1-bde1-358a71da95b8",
   "metadata": {},
   "outputs": [],
   "source": []
  }
 ],
 "metadata": {
  "kernelspec": {
   "display_name": "Python 3 (ipykernel)",
   "language": "python",
   "name": "python3"
  },
  "language_info": {
   "codemirror_mode": {
    "name": "ipython",
    "version": 3
   },
   "file_extension": ".py",
   "mimetype": "text/x-python",
   "name": "python",
   "nbconvert_exporter": "python",
   "pygments_lexer": "ipython3",
   "version": "3.10.14"
  }
 },
 "nbformat": 4,
 "nbformat_minor": 5
}
