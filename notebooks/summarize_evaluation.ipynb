{
 "cells": [
  {
   "cell_type": "code",
   "execution_count": 1,
   "id": "da4ac394-a726-42c6-be64-be200c63bd13",
   "metadata": {},
   "outputs": [],
   "source": [
    "import pandas as pd\n",
    "import os"
   ]
  },
  {
   "cell_type": "code",
   "execution_count": 2,
   "id": "c2abe33e-1d70-4ce4-b003-3923c4ff1fb8",
   "metadata": {},
   "outputs": [
    {
     "data": {
      "text/html": [
       "<div>\n",
       "<style scoped>\n",
       "    .dataframe tbody tr th:only-of-type {\n",
       "        vertical-align: middle;\n",
       "    }\n",
       "\n",
       "    .dataframe tbody tr th {\n",
       "        vertical-align: top;\n",
       "    }\n",
       "\n",
       "    .dataframe thead th {\n",
       "        text-align: right;\n",
       "    }\n",
       "</style>\n",
       "<table border=\"1\" class=\"dataframe\">\n",
       "  <thead>\n",
       "    <tr style=\"text-align: right;\">\n",
       "      <th></th>\n",
       "      <th>passed</th>\n",
       "      <th>name</th>\n",
       "    </tr>\n",
       "  </thead>\n",
       "  <tbody>\n",
       "    <tr>\n",
       "      <th>0</th>\n",
       "      <td>0.096154</td>\n",
       "      <td>samples_codellama.jsonl_results.jsonl</td>\n",
       "    </tr>\n",
       "    <tr>\n",
       "      <th>1</th>\n",
       "      <td>0.057692</td>\n",
       "      <td>samples_Mistral-7B-Instruct-v0.2.jsonl_results...</td>\n",
       "    </tr>\n",
       "  </tbody>\n",
       "</table>\n",
       "</div>"
      ],
      "text/plain": [
       "     passed                                               name\n",
       "0  0.096154              samples_codellama.jsonl_results.jsonl\n",
       "1  0.057692  samples_Mistral-7B-Instruct-v0.2.jsonl_results..."
      ]
     },
     "execution_count": 2,
     "metadata": {},
     "output_type": "execute_result"
    }
   ],
   "source": [
    "collection = []\n",
    "for filename in os.listdir(\".\"):\n",
    "    if filename.endswith(\"_results.jsonl\"):\n",
    "        df = pd.read_json(filename, lines=True)\n",
    "        summary = {}\n",
    "        summary['passed'] = (df['passed'] * 1).mean()\n",
    "        summary['name'] = filename\n",
    "        collection.append(summary)\n",
    "pd.DataFrame(collection)"
   ]
  },
  {
   "cell_type": "code",
   "execution_count": null,
   "id": "2120db23-c2e8-4ac9-8b48-0c2d3cd2ef1a",
   "metadata": {},
   "outputs": [],
   "source": []
  }
 ],
 "metadata": {
  "kernelspec": {
   "display_name": "Python 3 (ipykernel)",
   "language": "python",
   "name": "python3"
  },
  "language_info": {
   "codemirror_mode": {
    "name": "ipython",
    "version": 3
   },
   "file_extension": ".py",
   "mimetype": "text/x-python",
   "name": "python",
   "nbconvert_exporter": "python",
   "pygments_lexer": "ipython3",
   "version": "3.10.14"
  }
 },
 "nbformat": 4,
 "nbformat_minor": 5
}
