{
 "cells": [
  {
   "cell_type": "code",
   "execution_count": null,
   "id": "3347e0fa-4825-4701-9c91-4b08c75fd56f",
   "metadata": {},
   "outputs": [],
   "source": [
    "import pandas as pd\n",
    "from human_eval.data import write_jsonl, read_problems"
   ]
  },
  {
   "cell_type": "code",
   "execution_count": null,
   "id": "4fa3c5f1-2d7a-49c2-85d0-2a4846b900f0",
   "metadata": {},
   "outputs": [],
   "source": [
    "df = pd.read_json(\"samples_codellama.jsonl\", lines=True)\n",
    "df"
   ]
  },
  {
   "cell_type": "code",
   "execution_count": null,
   "id": "d2782f3b-b946-4f05-8e77-db3839f02f52",
   "metadata": {},
   "outputs": [],
   "source": [
    "def extract_python(response):\n",
    "\n",
    "    if '[PYTHON]' in response and '[/PYTHON]' in response:\n",
    "        response = response.replace('[PYTHON]', '```')\n",
    "        response = response.replace('[/PYTHON]', '```')\n",
    "        \n",
    "    if '```' in response:\n",
    "        response = response.replace('```python', '```')\n",
    "        \n",
    "        response = response.split('```')[-2]\n",
    "    \n",
    "    return response"
   ]
  },
  {
   "cell_type": "code",
   "execution_count": null,
   "id": "7251bbad-8ae8-42f9-ac0d-a46f01b6d098",
   "metadata": {},
   "outputs": [],
   "source": [
    "def extract_python1(response):\n",
    "\n",
    "    if '[PYTHON]' in response and '[/PYTHON]' in response:\n",
    "        response = response.replace('[PYTHON]', '```')\n",
    "        response = response.replace('[/PYTHON]', '```')\n",
    "        \n",
    "    if '```' in response:\n",
    "        response = response.replace('```python', '```')\n",
    "        temp = response.split('```')\n",
    "        for i in range(0, len(temp), 2):\n",
    "            temp[i] = \"\"\n",
    "        response = \"\".join(temp)\n",
    "    \n",
    "    return response"
   ]
  },
  {
   "cell_type": "code",
   "execution_count": null,
   "id": "d3e62ac8-4624-4680-821e-693f8eb9588d",
   "metadata": {},
   "outputs": [],
   "source": [
    "test = \"\"\"\n",
    "hallo\n",
    "```\n",
    "code\n",
    "```\n",
    "bla\n",
    "```\n",
    "code2\n",
    "```\n",
    "\"\"\"\n",
    "extract_python(test)"
   ]
  },
  {
   "cell_type": "code",
   "execution_count": null,
   "id": "926fa884-54e8-4a05-b35a-5d9630d2e2cc",
   "metadata": {},
   "outputs": [],
   "source": [
    "extract_python1(test)"
   ]
  },
  {
   "cell_type": "code",
   "execution_count": null,
   "id": "adbd273b-e041-4532-b56a-0d6c61691ef8",
   "metadata": {},
   "outputs": [],
   "source": [
    "a_list = []\n",
    "for i in range(len(df)):\n",
    "    df.iloc[i]['completion'] = extract_python1(df.iloc[i]['full_response'])\n",
    "    a_list.append(df.iloc[i].to_dict())\n",
    "df"
   ]
  },
  {
   "cell_type": "code",
   "execution_count": null,
   "id": "c8be1858-710b-42be-b314-7ee7a08d1d21",
   "metadata": {},
   "outputs": [],
   "source": [
    "\n",
    "write_jsonl(\"samples_codellama1.jsonl\", a_list)"
   ]
  },
  {
   "cell_type": "code",
   "execution_count": null,
   "id": "f2256fbc-741c-43ac-a68d-9b1c3abd751c",
   "metadata": {},
   "outputs": [],
   "source": []
  }
 ],
 "metadata": {
  "kernelspec": {
   "display_name": "Python 3 (ipykernel)",
   "language": "python",
   "name": "python3"
  },
  "language_info": {
   "codemirror_mode": {
    "name": "ipython",
    "version": 3
   },
   "file_extension": ".py",
   "mimetype": "text/x-python",
   "name": "python",
   "nbconvert_exporter": "python",
   "pygments_lexer": "ipython3",
   "version": "3.10.14"
  }
 },
 "nbformat": 4,
 "nbformat_minor": 5
}
