{
 "cells": [
  {
   "cell_type": "code",
   "execution_count": 5,
   "id": "3347e0fa-4825-4701-9c91-4b08c75fd56f",
   "metadata": {},
   "outputs": [
    {
     "name": "stdout",
     "output_type": "stream",
     "text": [
      "/home/ian/Documents/human-eval-bia\n"
     ]
    }
   ],
   "source": [
    "import pandas as pd\n",
    "import os\n",
    "from human_eval.data import write_jsonl, read_problems, extract_python"
   ]
  },
  {
   "cell_type": "code",
   "execution_count": 10,
   "id": "4fa3c5f1-2d7a-49c2-85d0-2a4846b900f0",
   "metadata": {},
   "outputs": [
    {
     "data": {
      "text/plain": [
       "0      Here is the complete code:\\n```python\\nimport ...\n",
       "1      Plan:\\n\\n1. Import the necessary libraries for...\n",
       "2      [PYTHON]\\nimport numpy as np\\nfrom skimage imp...\n",
       "3      Here is a possible implementation of the bland...\n",
       "4      Here's the code for the function `combine_colu...\n",
       "                             ...                        \n",
       "565    Here is the complete code for the function `wo...\n",
       "566    Plan:\\n\\n1. Convert the input image to graysca...\n",
       "567    Here is the complete code for the function `wo...\n",
       "568    ```python\\nimport numpy as np\\nimport pandas a...\n",
       "569    Here is the complete code for the function `wo...\n",
       "Name: full_response, Length: 570, dtype: object"
      ]
     },
     "execution_count": 10,
     "metadata": {},
     "output_type": "execute_result"
    }
   ],
   "source": [
    "df = pd.read_json(\"data/samples_codellama.jsonl\", lines=True)\n",
    "df[\"full_response\"]"
   ]
  },
  {
   "cell_type": "code",
   "execution_count": 11,
   "id": "7251bbad-8ae8-42f9-ac0d-a46f01b6d098",
   "metadata": {},
   "outputs": [],
   "source": [
    "directory = \"data/\"\n",
    "\n",
    "collection = []\n",
    "for filename in os.listdir(directory):\n",
    "    if filename.endswith(\"_results.jsonl\"):\n",
    "#        print(filename)\n",
    "        df = pd.read_json(directory + filename, lines=True)\n",
    "        df['model'] = filename.replace(\".jsonl_results.jsonl\", \"\").replace(\"samples_\", \"\")\n",
    "        collection.append(df)\n",
    "\n",
    "df = pd.concat(collection)"
   ]
  },
  {
   "cell_type": "code",
   "execution_count": 12,
   "id": "d3e62ac8-4624-4680-821e-693f8eb9588d",
   "metadata": {},
   "outputs": [
    {
     "data": {
      "text/plain": [
       "'\\ncode\\n\\ncode2\\n'"
      ]
     },
     "execution_count": 12,
     "metadata": {},
     "output_type": "execute_result"
    }
   ],
   "source": [
    "test = \"\"\"\n",
    "hallo\n",
    "```\n",
    "code\n",
    "```\n",
    "bla\n",
    "```\n",
    "code2\n",
    "```\n",
    "\"\"\"\n",
    "extract_python(test)"
   ]
  },
  {
   "cell_type": "code",
   "execution_count": 15,
   "id": "adbd273b-e041-4532-b56a-0d6c61691ef8",
   "metadata": {},
   "outputs": [
    {
     "name": "stderr",
     "output_type": "stream",
     "text": [
      "/tmp/ipykernel_431494/2155835719.py:3: SettingWithCopyWarning: \n",
      "A value is trying to be set on a copy of a slice from a DataFrame\n",
      "\n",
      "See the caveats in the documentation: https://pandas.pydata.org/pandas-docs/stable/user_guide/indexing.html#returning-a-view-versus-a-copy\n",
      "  df.iloc[i]['completion'] = extract_python(df.iloc[i]['full_response'])\n"
     ]
    },
    {
     "data": {
      "text/plain": [
       "0      \\ndef apply_otsu_threshold_and_count_postiive_...\n",
       "1      \\ndef binary_closing(binary_image, radius:int=...\n",
       "2      \\ndef binary_skeleton(binary_image):\\n    \"\"\"\\...\n",
       "3      \\ndef bland_altman(dataframe, column1:str, col...\n",
       "4      \\ndef combine_columns_of_tables(dataframe1, da...\n",
       "                             ...                        \n",
       "565    \\nimport os\\nimport cv2  # for handling tif im...\n",
       "566    # Step-by-step plan:\\n1. Load the given `image...\n",
       "567    \\n# Step-by-step plan to solve the problem:\\n\\...\n",
       "568    \\nfrom skimage import io, measure, morphology\\...\n",
       "569    \\n# Libraries import\\nimport cv2\\nimport numpy...\n",
       "Name: completion, Length: 10830, dtype: object"
      ]
     },
     "execution_count": 15,
     "metadata": {},
     "output_type": "execute_result"
    }
   ],
   "source": [
    "a_list = []\n",
    "for i in range(len(df)):\n",
    "    df.iloc[i]['completion'] = extract_python(df.iloc[i]['full_response'])\n",
    "    a_list.append(df.iloc[i].to_dict())\n",
    "df[\"completion\"]"
   ]
  },
  {
   "cell_type": "code",
   "execution_count": null,
   "id": "c8be1858-710b-42be-b314-7ee7a08d1d21",
   "metadata": {},
   "outputs": [],
   "source": [
    "\n",
    "write_jsonl(\"samples_codellama1.jsonl\", a_list)"
   ]
  }
 ],
 "metadata": {
  "kernelspec": {
   "display_name": "Python 3 (ipykernel)",
   "language": "python",
   "name": "python3"
  },
  "language_info": {
   "codemirror_mode": {
    "name": "ipython",
    "version": 3
   },
   "file_extension": ".py",
   "mimetype": "text/x-python",
   "name": "python",
   "nbconvert_exporter": "python",
   "pygments_lexer": "ipython3",
   "version": "3.10.14"
  }
 },
 "nbformat": 4,
 "nbformat_minor": 5
}
