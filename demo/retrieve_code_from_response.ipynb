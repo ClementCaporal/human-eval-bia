{
 "cells": [
  {
   "cell_type": "code",
   "execution_count": null,
   "id": "3347e0fa-4825-4701-9c91-4b08c75fd56f",
   "metadata": {},
   "outputs": [
    {
     "name": "stderr",
     "output_type": "stream",
     "text": [
      "/tmp/ipykernel_1736352/1024591285.py:1: DeprecationWarning: \n",
      "Pyarrow will become a required dependency of pandas in the next major release of pandas (pandas 3.0),\n",
      "(to allow more performant data types, such as the Arrow string type, and better interoperability with other libraries)\n",
      "but was not found to be installed on your system.\n",
      "If this would cause problems for you,\n",
      "please provide us feedback at https://github.com/pandas-dev/pandas/issues/54466\n",
      "        \n",
      "  import pandas as pd\n"
     ]
    },
    {
     "ename": "ModuleNotFoundError",
     "evalue": "No module named 'human_eval'",
     "output_type": "error",
     "traceback": [
      "\u001b[0;31m---------------------------------------------------------------------------\u001b[0m",
      "\u001b[0;31mModuleNotFoundError\u001b[0m                       Traceback (most recent call last)",
      "Cell \u001b[0;32mIn[4], line 2\u001b[0m\n\u001b[1;32m      1\u001b[0m \u001b[38;5;28;01mimport\u001b[39;00m \u001b[38;5;21;01mpandas\u001b[39;00m \u001b[38;5;28;01mas\u001b[39;00m \u001b[38;5;21;01mpd\u001b[39;00m\n\u001b[0;32m----> 2\u001b[0m \u001b[38;5;28;01mfrom\u001b[39;00m \u001b[38;5;21;01mhuman_eval\u001b[39;00m\u001b[38;5;21;01m.\u001b[39;00m\u001b[38;5;21;01mdata\u001b[39;00m \u001b[38;5;28;01mimport\u001b[39;00m write_jsonl, read_problems\n",
      "\u001b[0;31mModuleNotFoundError\u001b[0m: No module named 'human_eval'"
     ]
    }
   ],
   "source": [
    "import pandas as pd\n",
    "from human_eval.data import write_jsonl, read_problems"
   ]
  },
  {
   "cell_type": "code",
   "execution_count": null,
   "id": "4fa3c5f1-2d7a-49c2-85d0-2a4846b900f0",
   "metadata": {},
   "outputs": [],
   "source": [
    "df = pd.read_json(\"samples_codellama.jsonl\", lines=True)\n",
    "df"
   ]
  },
  {
   "cell_type": "code",
   "execution_count": 5,
   "id": "d2782f3b-b946-4f05-8e77-db3839f02f52",
   "metadata": {},
   "outputs": [],
   "source": [
    "def extract_python(response):\n",
    "\n",
    "    if '[PYTHON]' in response and '[/PYTHON]' in response:\n",
    "        response = response.replace('[PYTHON]', '```')\n",
    "        response = response.replace('[/PYTHON]', '```')\n",
    "        \n",
    "    if '```' in response:\n",
    "        response = response.replace('```python', '```')\n",
    "        \n",
    "        response = response.split('```')[-2]\n",
    "    \n",
    "    return response"
   ]
  },
  {
   "cell_type": "code",
   "execution_count": null,
   "id": "7251bbad-8ae8-42f9-ac0d-a46f01b6d098",
   "metadata": {},
   "outputs": [],
   "source": [
    "def extract_python1(response):\n",
    "\n",
    "    if '[PYTHON]' in response and '[/PYTHON]' in response:\n",
    "        response = response.replace('[PYTHON]', '```')\n",
    "        response = response.replace('[/PYTHON]', '```')\n",
    "        \n",
    "    if '```' in response:\n",
    "        response = response.replace('```python', '```')\n",
    "        temp = response.split('```')\n",
    "        for i in range(0, len(temp), 2):\n",
    "            temp[i] = \"\"\n",
    "        response = \"\".join(temp)\n",
    "    \n",
    "    return response"
   ]
  },
  {
   "cell_type": "code",
   "execution_count": 17,
   "id": "d3e62ac8-4624-4680-821e-693f8eb9588d",
   "metadata": {},
   "outputs": [
    {
     "data": {
      "text/plain": [
       "'\\ncode2\\n'"
      ]
     },
     "execution_count": 17,
     "metadata": {},
     "output_type": "execute_result"
    }
   ],
   "source": [
    "test = \"\"\"\n",
    "hallo\n",
    "```\n",
    "code\n",
    "```\n",
    "bla\n",
    "```\n",
    "code2\n",
    "```\n",
    "\"\"\"\n",
    "extract_python(test)"
   ]
  },
  {
   "cell_type": "code",
   "execution_count": 16,
   "id": "926fa884-54e8-4a05-b35a-5d9630d2e2cc",
   "metadata": {},
   "outputs": [
    {
     "data": {
      "text/plain": [
       "'\\ncode\\n\\ncode2\\n'"
      ]
     },
     "execution_count": 16,
     "metadata": {},
     "output_type": "execute_result"
    }
   ],
   "source": [
    "extract_python1(test)"
   ]
  },
  {
   "cell_type": "code",
   "execution_count": null,
   "id": "adbd273b-e041-4532-b56a-0d6c61691ef8",
   "metadata": {},
   "outputs": [],
   "source": [
    "a_list = []\n",
    "for i in range(len(df)):\n",
    "    df.iloc[i]['completion'] = extract_python2(df.iloc[i]['full_response'])\n",
    "    a_list.append(df.iloc[i].to_dict())\n",
    "df"
   ]
  },
  {
   "cell_type": "code",
   "execution_count": null,
   "id": "c8be1858-710b-42be-b314-7ee7a08d1d21",
   "metadata": {},
   "outputs": [],
   "source": [
    "\n",
    "write_jsonl(\"samples_codellama1.jsonl\", a_list)"
   ]
  },
  {
   "cell_type": "code",
   "execution_count": null,
   "id": "f2256fbc-741c-43ac-a68d-9b1c3abd751c",
   "metadata": {},
   "outputs": [],
   "source": []
  }
 ],
 "metadata": {
  "kernelspec": {
   "display_name": "Python 3 (ipykernel)",
   "language": "python",
   "name": "python3"
  },
  "language_info": {
   "codemirror_mode": {
    "name": "ipython",
    "version": 3
   },
   "file_extension": ".py",
   "mimetype": "text/x-python",
   "name": "python",
   "nbconvert_exporter": "python",
   "pygments_lexer": "ipython3",
   "version": "3.10.14"
  }
 },
 "nbformat": 4,
 "nbformat_minor": 5
}
