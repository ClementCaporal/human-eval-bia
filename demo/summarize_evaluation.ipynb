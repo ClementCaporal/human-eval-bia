{
 "cells": [
  {
   "cell_type": "code",
   "execution_count": 1,
   "id": "da4ac394-a726-42c6-be64-be200c63bd13",
   "metadata": {},
   "outputs": [],
   "source": [
    "import pandas as pd\n",
    "import os"
   ]
  },
  {
   "cell_type": "code",
   "execution_count": 2,
   "id": "45984da5-ba46-4c0c-b7d1-e842bd3e9725",
   "metadata": {},
   "outputs": [],
   "source": [
    "directory = \"../data/\""
   ]
  },
  {
   "cell_type": "code",
   "execution_count": 3,
   "id": "c2abe33e-1d70-4ce4-b003-3923c4ff1fb8",
   "metadata": {},
   "outputs": [
    {
     "data": {
      "text/html": [
       "<div>\n",
       "<style scoped>\n",
       "    .dataframe tbody tr th:only-of-type {\n",
       "        vertical-align: middle;\n",
       "    }\n",
       "\n",
       "    .dataframe tbody tr th {\n",
       "        vertical-align: top;\n",
       "    }\n",
       "\n",
       "    .dataframe thead th {\n",
       "        text-align: right;\n",
       "    }\n",
       "</style>\n",
       "<table border=\"1\" class=\"dataframe\">\n",
       "  <thead>\n",
       "    <tr style=\"text-align: right;\">\n",
       "      <th></th>\n",
       "      <th>passed</th>\n",
       "      <th>name</th>\n",
       "    </tr>\n",
       "  </thead>\n",
       "  <tbody>\n",
       "    <tr>\n",
       "      <th>0</th>\n",
       "      <td>0.436170</td>\n",
       "      <td>samples_claude-3-opus-20240229.jsonl_results.j...</td>\n",
       "    </tr>\n",
       "    <tr>\n",
       "      <th>1</th>\n",
       "      <td>0.078723</td>\n",
       "      <td>samples_codellama.jsonl_results.jsonl</td>\n",
       "    </tr>\n",
       "    <tr>\n",
       "      <th>2</th>\n",
       "      <td>0.142553</td>\n",
       "      <td>samples_gemini-pro.jsonl_results.jsonl</td>\n",
       "    </tr>\n",
       "    <tr>\n",
       "      <th>3</th>\n",
       "      <td>0.304255</td>\n",
       "      <td>samples_gpt-3.5-turbo-1106.jsonl_results.jsonl</td>\n",
       "    </tr>\n",
       "    <tr>\n",
       "      <th>4</th>\n",
       "      <td>0.485106</td>\n",
       "      <td>samples_gpt-4-1106-preview.jsonl_results.jsonl</td>\n",
       "    </tr>\n",
       "    <tr>\n",
       "      <th>5</th>\n",
       "      <td>0.431915</td>\n",
       "      <td>samples_gpt-4-turbo-2024-04-09.jsonl_results.j...</td>\n",
       "    </tr>\n",
       "    <tr>\n",
       "      <th>6</th>\n",
       "      <td>0.138298</td>\n",
       "      <td>samples_Mistral-7B-Instruct-v0.2.jsonl_results...</td>\n",
       "    </tr>\n",
       "    <tr>\n",
       "      <th>7</th>\n",
       "      <td>1.000000</td>\n",
       "      <td>samples_reference.jsonl_results.jsonl</td>\n",
       "    </tr>\n",
       "  </tbody>\n",
       "</table>\n",
       "</div>"
      ],
      "text/plain": [
       "     passed                                               name\n",
       "0  0.436170  samples_claude-3-opus-20240229.jsonl_results.j...\n",
       "1  0.078723              samples_codellama.jsonl_results.jsonl\n",
       "2  0.142553             samples_gemini-pro.jsonl_results.jsonl\n",
       "3  0.304255     samples_gpt-3.5-turbo-1106.jsonl_results.jsonl\n",
       "4  0.485106     samples_gpt-4-1106-preview.jsonl_results.jsonl\n",
       "5  0.431915  samples_gpt-4-turbo-2024-04-09.jsonl_results.j...\n",
       "6  0.138298  samples_Mistral-7B-Instruct-v0.2.jsonl_results...\n",
       "7  1.000000              samples_reference.jsonl_results.jsonl"
      ]
     },
     "execution_count": 3,
     "metadata": {},
     "output_type": "execute_result"
    }
   ],
   "source": [
    "collection = []\n",
    "for filename in os.listdir(directory):\n",
    "    if filename.endswith(\"_results.jsonl\"):\n",
    "        df = pd.read_json(directory + filename, lines=True)\n",
    "        summary = {}\n",
    "        summary['passed'] = (df['passed'] * 1).mean()\n",
    "        summary['name'] = filename\n",
    "        collection.append(summary)\n",
    "pd.DataFrame(collection)"
   ]
  },
  {
   "cell_type": "code",
   "execution_count": null,
   "id": "2120db23-c2e8-4ac9-8b48-0c2d3cd2ef1a",
   "metadata": {},
   "outputs": [],
   "source": []
  },
  {
   "cell_type": "code",
   "execution_count": null,
   "id": "3bad3a24-3431-4759-a594-59802bce9532",
   "metadata": {},
   "outputs": [],
   "source": []
  }
 ],
 "metadata": {
  "kernelspec": {
   "display_name": "Python 3 (ipykernel)",
   "language": "python",
   "name": "python3"
  },
  "language_info": {
   "codemirror_mode": {
    "name": "ipython",
    "version": 3
   },
   "file_extension": ".py",
   "mimetype": "text/x-python",
   "name": "python",
   "nbconvert_exporter": "python",
   "pygments_lexer": "ipython3",
   "version": "3.9.16"
  }
 },
 "nbformat": 4,
 "nbformat_minor": 5
}
