{
 "cells": [
  {
   "cell_type": "code",
   "execution_count": null,
   "id": "da4ac394-a726-42c6-be64-be200c63bd13",
   "metadata": {},
   "outputs": [],
   "source": [
    "import pandas as pd\n",
    "import os"
   ]
  },
  {
   "cell_type": "code",
   "execution_count": null,
   "id": "c2abe33e-1d70-4ce4-b003-3923c4ff1fb8",
   "metadata": {},
   "outputs": [],
   "source": [
    "collection = []\n",
    "for filename in os.listdir(\"../data/\"):\n",
    "    if filename.endswith(\"_results.jsonl\"):\n",
    "        df = pd.read_json(filename, lines=True)\n",
    "        summary = {}\n",
    "        summary['passed'] = (df['passed'] * 1).mean()\n",
    "        summary['name'] = filename\n",
    "        collection.append(summary)\n",
    "pd.DataFrame(collection)"
   ]
  },
  {
   "cell_type": "code",
   "execution_count": null,
   "id": "2120db23-c2e8-4ac9-8b48-0c2d3cd2ef1a",
   "metadata": {},
   "outputs": [],
   "source": []
  },
  {
   "cell_type": "code",
   "execution_count": null,
   "id": "3bad3a24-3431-4759-a594-59802bce9532",
   "metadata": {},
   "outputs": [],
   "source": []
  }
 ],
 "metadata": {
  "kernelspec": {
   "display_name": "Python 3 (ipykernel)",
   "language": "python",
   "name": "python3"
  },
  "language_info": {
   "codemirror_mode": {
    "name": "ipython",
    "version": 3
   },
   "file_extension": ".py",
   "mimetype": "text/x-python",
   "name": "python",
   "nbconvert_exporter": "python",
   "pygments_lexer": "ipython3",
   "version": "3.10.14"
  }
 },
 "nbformat": 4,
 "nbformat_minor": 5
}
