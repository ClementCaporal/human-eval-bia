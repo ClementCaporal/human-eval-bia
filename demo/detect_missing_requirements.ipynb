{
 "cells": [
  {
   "cell_type": "markdown",
   "id": "1bba302e-f153-4c4a-96fd-dbbca7d52a15",
   "metadata": {},
   "source": [
    "# Detecting missing requirements\n",
    "\n",
    "With this notebook we can scan \"..._results.jsonl\" files for failed imports. Some of those might lead to adding them to our requirements.txt"
   ]
  },
  {
   "cell_type": "code",
   "execution_count": 1,
   "id": "9d38d653-6471-4e55-8607-89f7d6250e4d",
   "metadata": {},
   "outputs": [
    {
     "name": "stdout",
     "output_type": "stream",
     "text": [
      "No_module_named 'osgeo'\", \"passed\": false}\n",
      "No_module_named 'nrrd'\", \"passed\": false}\n",
      "No_module_named 'rasterio'\", \"passed\": false}\n",
      "No_module_named 'tensorflow'\", \"passed\": false}\n",
      "No_module_named 'rasterio'\", \"passed\": false}\n",
      "No_module_named 'labeltools'\", \"passed\": false}\n",
      "No_module_named 'rasterio'\", \"passed\": false}\n",
      "No_module_named 'torch'\", \"passed\": false}\n",
      "No_module_named 'rasterio'\", \"passed\": false}\n",
      "No_module_named 'rasterio'\", \"passed\": false}\n",
      "No_module_named 'pydicom'\", \"passed\": false}\n",
      "No_module_named 'sklearn.feature'\", \"passed\": false}\n",
      "No_module_named 'pydicom'\", \"passed\": false}\n",
      "No_module_named 'gaussian_blur'\", \"passed\": false}\n",
      "No_module_named 'OpenImageIO'\", \"passed\": false}\n",
      "No_module_named 'openimageio'\", \"passed\": false}\n",
      "No_module_named 'pytiff'\", \"passed\": false}\n",
      "No_module_named 'none'\", \"passed\": false}\n",
      "No_module_named 'fsspec.imappers'\", \"passed\": false}\n",
      "No_module_named 'skimage.filter'\", \"passed\": false}\n",
      "No_module_named 'simpleITK'\", \"passed\": false}\n",
      "No_module_named 'simpleITK'\", \"passed\": false}\n",
      "No_module_named 'skimage.surface'\", \"passed\": false}\n",
      "No_module_named 'skimage.surface'\", \"passed\": false}\n",
      "No_module_named 'skimage.count_objects'\", \"passed\": false}\n",
      "No_module_named 'skimage.count_objects'\", \"passed\": false}\n",
      "No_module_named 'skimage.regionprops'\", \"passed\": false}\n",
      "No_module_named 'regionprops'\", \"passed\": false}\n",
      "No_module_named 'skimage.surface'\", \"passed\": false}\n",
      "No_module_named 'z5py'\", \"passed\": false}\n",
      "No_module_named 'skimage._cutter'\", \"passed\": false}\n",
      "No_module_named 'rasterio'\", \"passed\": false}\n",
      "No_module_named 'sknatec'\", \"passed\": false}\n",
      "No_module_named 'rasterio'\", \"passed\": false}\n",
      "No_module_named 'rasterio'\", \"passed\": false}\n",
      "No_module_named 'rasterio'\", \"passed\": false}\n"
     ]
    }
   ],
   "source": [
    "import os\n",
    "\n",
    "# Step 1: Define the directory and get all files\n",
    "directory = \"../data/\"\n",
    "files = os.listdir(directory)\n",
    "\n",
    "# Step 2: Filter for files ending with \"_results.jsonl\"\n",
    "result_files = [file for file in files if file.endswith('_results.jsonl')]\n",
    "\n",
    "# Step 3: Loop through each file and process it\n",
    "for file_name in result_files:\n",
    "    file_path = os.path.join(directory, file_name)\n",
    "    try:\n",
    "        with open(file_path, 'r') as file:\n",
    "            # Read the file line by line\n",
    "            for line in file:\n",
    "                # Check if \"ImportError:\" is in the line\n",
    "                if \"No module named\" in line:\n",
    "                    line = line.replace(\"No module named\", \"No_module_named\")\n",
    "                    words = line.split()\n",
    "                    # Find the index of \"No module named\"\n",
    "                    index = words.index(\"No_module_named\")\n",
    "                    # Print \"ImportError:\" and the next 10 words\n",
    "                    error_message = words[index:index+11]\n",
    "                    print(' '.join(error_message))\n",
    "    except IOError as e:\n",
    "        print(f\"Could not read file {file_name}: {e}\")\n",
    "    except ValueError as e:\n",
    "        print(f\"Problem processing line in file {file_name}: {e}\")"
   ]
  },
  {
   "cell_type": "code",
   "execution_count": null,
   "id": "83636fa0-665f-4bb1-9e39-410ace7c321d",
   "metadata": {},
   "outputs": [],
   "source": []
  }
 ],
 "metadata": {
  "kernelspec": {
   "display_name": "Python 3 (ipykernel)",
   "language": "python",
   "name": "python3"
  },
  "language_info": {
   "codemirror_mode": {
    "name": "ipython",
    "version": 3
   },
   "file_extension": ".py",
   "mimetype": "text/x-python",
   "name": "python",
   "nbconvert_exporter": "python",
   "pygments_lexer": "ipython3",
   "version": "3.10.14"
  }
 },
 "nbformat": 4,
 "nbformat_minor": 5
}
