{
 "cells": [
  {
   "cell_type": "markdown",
   "id": "c217f162-d86d-489f-b6a8-6bd82a98181a",
   "metadata": {},
   "source": [
    "# Case-by-case analysis\n",
    "This notebook demonstrates how to visualize which model managed to solve which test-case how often."
   ]
  },
  {
   "cell_type": "code",
   "execution_count": null,
   "id": "d7c80449-8b7b-41a7-a92c-f7edfd443e46",
   "metadata": {},
   "outputs": [],
   "source": [
    "import pandas as pd\n",
    "import os"
   ]
  },
  {
   "cell_type": "code",
   "execution_count": null,
   "id": "c7abf5c6-62ac-4597-8aec-b5b9ab9503b3",
   "metadata": {},
   "outputs": [],
   "source": [
    "directory = \"../archive/\"\n",
    "\n",
    "collection = []\n",
    "for filename in os.listdir(directory):\n",
    "    if filename.endswith(\"_results.jsonl\"):\n",
    "        print(filename)\n",
    "        df = pd.read_json(directory + filename, lines=True)\n",
    "        df['model'] = filename.replace(\".jsonl_results.jsonl\", \"\").replace(\"samples_\", \"\")\n",
    "        collection.append(df)\n",
    "\n",
    "df = pd.concat(collection)"
   ]
  },
  {
   "cell_type": "code",
   "execution_count": null,
   "id": "a2cceb48-c75c-4b76-a984-322f3a055062",
   "metadata": {},
   "outputs": [],
   "source": [
    "df"
   ]
  },
  {
   "cell_type": "code",
   "execution_count": null,
   "id": "5b8b42c2-acdf-42d6-a556-4c24ce2a6bb1",
   "metadata": {},
   "outputs": [],
   "source": [
    "import pandas as pd\n",
    "\n",
    "# Assuming 'df' is the initial dataframe\n",
    "# Ensure the 'passed' column is boolean for correct processing.\n",
    "df['passed'] = df['passed'].astype(bool)\n",
    "\n",
    "# Pivot the dataframe to count True 'passed' values for each model-task combination.\n",
    "pivot_df = df.pivot_table(index='task_id', columns='model', values='passed', aggfunc='mean', fill_value=0)\n",
    "\n",
    "# Reset the index if 'task_id' needs to be a column instead of an index\n",
    "pivot_df.reset_index(inplace=True)\n",
    "\n",
    "# Show the transformation result (for verification)\n",
    "def colorize(styler):\n",
    "    styler.background_gradient(axis=None, cmap=\"PiYG\")\n",
    "    return styler\n",
    "pivot_df.style.pipe(colorize)\n",
    "\n"
   ]
  },
  {
   "cell_type": "code",
   "execution_count": null,
   "id": "0c7a15c9-0ec4-45d1-bde1-358a71da95b8",
   "metadata": {},
   "outputs": [],
   "source": []
  }
 ],
 "metadata": {
  "kernelspec": {
   "display_name": "Python 3 (ipykernel)",
   "language": "python",
   "name": "python3"
  },
  "language_info": {
   "codemirror_mode": {
    "name": "ipython",
    "version": 3
   },
   "file_extension": ".py",
   "mimetype": "text/x-python",
   "name": "python",
   "nbconvert_exporter": "python",
   "pygments_lexer": "ipython3",
   "version": "3.10.14"
  }
 },
 "nbformat": 4,
 "nbformat_minor": 5
}
