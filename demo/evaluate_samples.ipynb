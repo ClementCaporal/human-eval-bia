{
 "cells": [
  {
   "cell_type": "code",
   "execution_count": null,
   "id": "726e33d1-047a-46e1-94ea-807f651e3b41",
   "metadata": {},
   "outputs": [],
   "source": [
    "from human_eval.evaluation import evaluate_functional_correctness\n",
    "import os\n",
    "import pandas as pd"
   ]
  },
  {
   "cell_type": "code",
   "execution_count": null,
   "id": "04d34ad7-a2c1-4341-8a80-5f45d98edbd0",
   "metadata": {},
   "outputs": [],
   "source": [
    "directory = \"../data/\"\n",
    "problem_file = 'human-eval-bia.jsonl'\n",
    "k = [1, 10]\n",
    "timeout = 3\n",
    "n_workers = 1 # 4"
   ]
  },
  {
   "cell_type": "code",
   "execution_count": null,
   "id": "34977768-78de-43b8-a21c-6673674bedef",
   "metadata": {},
   "outputs": [],
   "source": [
    "for filename in os.listdir(directory):\n",
    "    if filename.endswith(\".jsonl\") and \"_results.jsonl\" not in filename and \"human-eval\" not in filename:\n",
    "        sample_file = filename\n",
    "        \n",
    "        results = evaluate_functional_correctness(directory + sample_file, k, n_workers, timeout, directory + problem_file)\n",
    "\n",
    "        results = {k: [v] for k, v in results.items()}\n",
    "        \n",
    "        df = pd.DataFrame(results)\n",
    "        df.to_csv(\"../data/\" + filename.replace(\".jsonl\", \"_passk_results.csv\"))"
   ]
  },
  {
   "cell_type": "code",
   "execution_count": null,
   "id": "3573144e-4b26-41e7-87e6-5cdfd1d574b5",
   "metadata": {},
   "outputs": [],
   "source": []
  }
 ],
 "metadata": {
  "kernelspec": {
   "display_name": "Python 3 (ipykernel)",
   "language": "python",
   "name": "python3"
  },
  "language_info": {
   "codemirror_mode": {
    "name": "ipython",
    "version": 3
   },
   "file_extension": ".py",
   "mimetype": "text/x-python",
   "name": "python",
   "nbconvert_exporter": "python",
   "pygments_lexer": "ipython3",
   "version": "3.10.14"
  }
 },
 "nbformat": 4,
 "nbformat_minor": 5
}
