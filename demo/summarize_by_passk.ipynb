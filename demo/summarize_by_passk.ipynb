{
 "cells": [
  {
   "cell_type": "markdown",
   "id": "c217f162-d86d-489f-b6a8-6bd82a98181a",
   "metadata": {},
   "source": [
    "# pass@k analysis\n",
    "This notebook demonstrates how to visualize which model managed to achieve which pass@k value."
   ]
  },
  {
   "cell_type": "code",
   "execution_count": null,
   "id": "d7c80449-8b7b-41a7-a92c-f7edfd443e46",
   "metadata": {},
   "outputs": [],
   "source": [
    "import pandas as pd\n",
    "import os"
   ]
  },
  {
   "cell_type": "code",
   "execution_count": null,
   "id": "c7abf5c6-62ac-4597-8aec-b5b9ab9503b3",
   "metadata": {},
   "outputs": [],
   "source": [
    "directory = \"../data/\"\n",
    "\n",
    "collection = []\n",
    "for filename in os.listdir(directory):\n",
    "    if filename.endswith(\".csv\"):\n",
    "        print(filename)\n",
    "        df = pd.read_csv(directory + filename)\n",
    "        df['model'] = filename.replace(\"_passk_results.csv\", \"\").replace(\"samples_\", \"\")\n",
    "        collection.append(df)\n",
    "\n",
    "df = pd.concat(collection)"
   ]
  },
  {
   "cell_type": "code",
   "execution_count": null,
   "id": "a2cceb48-c75c-4b76-a984-322f3a055062",
   "metadata": {},
   "outputs": [],
   "source": [
    "df"
   ]
  },
  {
   "cell_type": "code",
   "execution_count": null,
   "id": "e5544292-bf62-495d-8be7-4ab493c71aed",
   "metadata": {},
   "outputs": [],
   "source": [
    "# Drop the \"Unnamed: 0\" column from the dataframe\n",
    "df = df.drop(\"Unnamed: 0\", axis=1)\n",
    "\n",
    "df"
   ]
  },
  {
   "cell_type": "code",
   "execution_count": null,
   "id": "e09d98ea-7fc8-4004-9382-f9a02765b052",
   "metadata": {},
   "outputs": [],
   "source": [
    "# Set the \"model\" column as the index and then transpose\n",
    "df_transposed = df.set_index('model').transpose()\n",
    "df_transposed['k'] = [1,5,10]\n",
    "df_transposed"
   ]
  },
  {
   "cell_type": "code",
   "execution_count": null,
   "id": "aae3266d-e23f-4231-ab82-866dc60d3249",
   "metadata": {},
   "outputs": [],
   "source": [
    "import matplotlib.pyplot as plt\n",
    "\n",
    "# Assuming 'k' is an index after transposition, let's reset the index first if not already done\n",
    "if 'k' not in df_transposed.columns:\n",
    "    df_transposed.reset_index(inplace=True)\n",
    "\n",
    "# Separate 'k' column for x-axis\n",
    "x = df_transposed['k']\n",
    "\n",
    "# Plot each column except 'k' against 'k'\n",
    "for column in df_transposed.columns:\n",
    "    if column != 'k':  # Avoid plotting 'k' against itself\n",
    "        plt.plot(x, df_transposed[column], label=column)\n",
    "\n",
    "# Adding plot decorations\n",
    "plt.xlabel('k')\n",
    "plt.ylabel('Pass rate')\n",
    "plt.title('Pass rates depending on k')\n",
    "plt.legend(title='LLMs', bbox_to_anchor=(1.05, 1), loc='upper left')\n",
    "plt.tight_layout()\n",
    "\n",
    "plt.show()"
   ]
  },
  {
   "cell_type": "code",
   "execution_count": null,
   "id": "f4d7420a-71f0-41f5-8fa0-a0156e3230ad",
   "metadata": {},
   "outputs": [],
   "source": []
  }
 ],
 "metadata": {
  "kernelspec": {
   "display_name": "Python 3 (ipykernel)",
   "language": "python",
   "name": "python3"
  },
  "language_info": {
   "codemirror_mode": {
    "name": "ipython",
    "version": 3
   },
   "file_extension": ".py",
   "mimetype": "text/x-python",
   "name": "python",
   "nbconvert_exporter": "python",
   "pygments_lexer": "ipython3",
   "version": "3.10.14"
  }
 },
 "nbformat": 4,
 "nbformat_minor": 5
}
