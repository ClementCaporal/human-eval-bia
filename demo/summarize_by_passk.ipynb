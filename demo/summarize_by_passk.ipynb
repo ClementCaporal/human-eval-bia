{
 "cells": [
  {
   "cell_type": "markdown",
   "id": "c217f162-d86d-489f-b6a8-6bd82a98181a",
   "metadata": {},
   "source": [
    "# pass@k analysis\n",
    "This notebook demonstrates how to visualize which model managed to achieve which pass@k value."
   ]
  },
  {
   "cell_type": "code",
   "execution_count": null,
   "id": "d7c80449-8b7b-41a7-a92c-f7edfd443e46",
   "metadata": {},
   "outputs": [],
   "source": [
    "import pandas as pd\n",
    "import os"
   ]
  },
  {
   "cell_type": "code",
   "execution_count": null,
   "id": "c7abf5c6-62ac-4597-8aec-b5b9ab9503b3",
   "metadata": {},
   "outputs": [],
   "source": [
    "directory = \"../data/\"\n",
    "\n",
    "collection = []\n",
    "for filename in os.listdir(directory):\n",
    "    if filename.endswith(\".csv\"):\n",
    "        print(filename)\n",
    "        df = pd.read_csv(directory + filename)\n",
    "        df['model'] = filename.replace(\"_passk_results.csv\", \"\").replace(\"samples_\", \"\")\n",
    "        collection.append(df)\n",
    "\n",
    "df = pd.concat(collection)"
   ]
  },
  {
   "cell_type": "code",
   "execution_count": null,
   "id": "a2cceb48-c75c-4b76-a984-322f3a055062",
   "metadata": {},
   "outputs": [],
   "source": [
    "df"
   ]
  },
  {
   "cell_type": "code",
   "execution_count": null,
   "id": "0c7a15c9-0ec4-45d1-bde1-358a71da95b8",
   "metadata": {},
   "outputs": [],
   "source": []
  }
 ],
 "metadata": {
  "kernelspec": {
   "display_name": "Python 3 (ipykernel)",
   "language": "python",
   "name": "python3"
  },
  "language_info": {
   "codemirror_mode": {
    "name": "ipython",
    "version": 3
   },
   "file_extension": ".py",
   "mimetype": "text/x-python",
   "name": "python",
   "nbconvert_exporter": "python",
   "pygments_lexer": "ipython3",
   "version": "3.10.14"
  }
 },
 "nbformat": 4,
 "nbformat_minor": 5
}
