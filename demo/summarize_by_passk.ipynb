{
 "cells": [
  {
   "cell_type": "markdown",
   "id": "c217f162-d86d-489f-b6a8-6bd82a98181a",
   "metadata": {},
   "source": [
    "# pass@k analysis\n",
    "This notebook demonstrates how to visualize which model managed to achieve which pass@k value."
   ]
  },
  {
   "cell_type": "code",
   "execution_count": 1,
   "id": "d7c80449-8b7b-41a7-a92c-f7edfd443e46",
   "metadata": {},
   "outputs": [],
   "source": [
    "import pandas as pd\n",
    "import os"
   ]
  },
  {
   "cell_type": "code",
   "execution_count": 2,
   "id": "c7abf5c6-62ac-4597-8aec-b5b9ab9503b3",
   "metadata": {},
   "outputs": [
    {
     "name": "stdout",
     "output_type": "stream",
     "text": [
      "samples_claude-3-opus-20240229_passk_results.csv\n",
      "samples_codellama_passk_results.csv\n",
      "samples_gemini-pro_passk_results.csv\n",
      "samples_gpt-3.5-turbo-1106_passk_results.csv\n",
      "samples_gpt-4-1106-preview_passk_results.csv\n",
      "samples_Mistral-7B-Instruct-v0.2_passk_results.csv\n"
     ]
    }
   ],
   "source": [
    "directory = \"../data/\"\n",
    "\n",
    "collection = []\n",
    "for filename in os.listdir(directory):\n",
    "    if filename.endswith(\".csv\"):\n",
    "        print(filename)\n",
    "        df = pd.read_csv(directory + filename)\n",
    "        df['model'] = filename.replace(\"_passk_results.csv\", \"\").replace(\"samples_\", \"\")\n",
    "        collection.append(df)\n",
    "\n",
    "df = pd.concat(collection)"
   ]
  },
  {
   "cell_type": "code",
   "execution_count": 3,
   "id": "a2cceb48-c75c-4b76-a984-322f3a055062",
   "metadata": {},
   "outputs": [
    {
     "data": {
      "text/html": [
       "<div>\n",
       "<style scoped>\n",
       "    .dataframe tbody tr th:only-of-type {\n",
       "        vertical-align: middle;\n",
       "    }\n",
       "\n",
       "    .dataframe tbody tr th {\n",
       "        vertical-align: top;\n",
       "    }\n",
       "\n",
       "    .dataframe thead th {\n",
       "        text-align: right;\n",
       "    }\n",
       "</style>\n",
       "<table border=\"1\" class=\"dataframe\">\n",
       "  <thead>\n",
       "    <tr style=\"text-align: right;\">\n",
       "      <th></th>\n",
       "      <th>Unnamed: 0</th>\n",
       "      <th>pass@1</th>\n",
       "      <th>pass@5</th>\n",
       "      <th>pass@10</th>\n",
       "      <th>model</th>\n",
       "    </tr>\n",
       "  </thead>\n",
       "  <tbody>\n",
       "    <tr>\n",
       "      <th>0</th>\n",
       "      <td>0</td>\n",
       "      <td>0.395745</td>\n",
       "      <td>0.589412</td>\n",
       "      <td>0.638298</td>\n",
       "      <td>claude-3-opus-20240229</td>\n",
       "    </tr>\n",
       "    <tr>\n",
       "      <th>0</th>\n",
       "      <td>0</td>\n",
       "      <td>0.072340</td>\n",
       "      <td>0.215805</td>\n",
       "      <td>0.319149</td>\n",
       "      <td>codellama</td>\n",
       "    </tr>\n",
       "    <tr>\n",
       "      <th>0</th>\n",
       "      <td>0</td>\n",
       "      <td>0.117021</td>\n",
       "      <td>0.287994</td>\n",
       "      <td>0.382979</td>\n",
       "      <td>gemini-pro</td>\n",
       "    </tr>\n",
       "    <tr>\n",
       "      <th>0</th>\n",
       "      <td>0</td>\n",
       "      <td>0.282979</td>\n",
       "      <td>0.519504</td>\n",
       "      <td>0.617021</td>\n",
       "      <td>gpt-3.5-turbo-1106</td>\n",
       "    </tr>\n",
       "    <tr>\n",
       "      <th>0</th>\n",
       "      <td>0</td>\n",
       "      <td>0.421277</td>\n",
       "      <td>0.641000</td>\n",
       "      <td>0.702128</td>\n",
       "      <td>gpt-4-1106-preview</td>\n",
       "    </tr>\n",
       "    <tr>\n",
       "      <th>0</th>\n",
       "      <td>0</td>\n",
       "      <td>0.119149</td>\n",
       "      <td>0.249409</td>\n",
       "      <td>0.319149</td>\n",
       "      <td>Mistral-7B-Instruct-v0.2</td>\n",
       "    </tr>\n",
       "  </tbody>\n",
       "</table>\n",
       "</div>"
      ],
      "text/plain": [
       "   Unnamed: 0    pass@1    pass@5   pass@10                     model\n",
       "0           0  0.395745  0.589412  0.638298    claude-3-opus-20240229\n",
       "0           0  0.072340  0.215805  0.319149                 codellama\n",
       "0           0  0.117021  0.287994  0.382979                gemini-pro\n",
       "0           0  0.282979  0.519504  0.617021        gpt-3.5-turbo-1106\n",
       "0           0  0.421277  0.641000  0.702128        gpt-4-1106-preview\n",
       "0           0  0.119149  0.249409  0.319149  Mistral-7B-Instruct-v0.2"
      ]
     },
     "execution_count": 3,
     "metadata": {},
     "output_type": "execute_result"
    }
   ],
   "source": [
    "df"
   ]
  },
  {
   "cell_type": "code",
   "execution_count": 4,
   "id": "e5544292-bf62-495d-8be7-4ab493c71aed",
   "metadata": {},
   "outputs": [
    {
     "data": {
      "text/html": [
       "<div>\n",
       "<style scoped>\n",
       "    .dataframe tbody tr th:only-of-type {\n",
       "        vertical-align: middle;\n",
       "    }\n",
       "\n",
       "    .dataframe tbody tr th {\n",
       "        vertical-align: top;\n",
       "    }\n",
       "\n",
       "    .dataframe thead th {\n",
       "        text-align: right;\n",
       "    }\n",
       "</style>\n",
       "<table border=\"1\" class=\"dataframe\">\n",
       "  <thead>\n",
       "    <tr style=\"text-align: right;\">\n",
       "      <th></th>\n",
       "      <th>pass@1</th>\n",
       "      <th>pass@5</th>\n",
       "      <th>pass@10</th>\n",
       "      <th>model</th>\n",
       "    </tr>\n",
       "  </thead>\n",
       "  <tbody>\n",
       "    <tr>\n",
       "      <th>0</th>\n",
       "      <td>0.395745</td>\n",
       "      <td>0.589412</td>\n",
       "      <td>0.638298</td>\n",
       "      <td>claude-3-opus-20240229</td>\n",
       "    </tr>\n",
       "    <tr>\n",
       "      <th>0</th>\n",
       "      <td>0.072340</td>\n",
       "      <td>0.215805</td>\n",
       "      <td>0.319149</td>\n",
       "      <td>codellama</td>\n",
       "    </tr>\n",
       "    <tr>\n",
       "      <th>0</th>\n",
       "      <td>0.117021</td>\n",
       "      <td>0.287994</td>\n",
       "      <td>0.382979</td>\n",
       "      <td>gemini-pro</td>\n",
       "    </tr>\n",
       "    <tr>\n",
       "      <th>0</th>\n",
       "      <td>0.282979</td>\n",
       "      <td>0.519504</td>\n",
       "      <td>0.617021</td>\n",
       "      <td>gpt-3.5-turbo-1106</td>\n",
       "    </tr>\n",
       "    <tr>\n",
       "      <th>0</th>\n",
       "      <td>0.421277</td>\n",
       "      <td>0.641000</td>\n",
       "      <td>0.702128</td>\n",
       "      <td>gpt-4-1106-preview</td>\n",
       "    </tr>\n",
       "    <tr>\n",
       "      <th>0</th>\n",
       "      <td>0.119149</td>\n",
       "      <td>0.249409</td>\n",
       "      <td>0.319149</td>\n",
       "      <td>Mistral-7B-Instruct-v0.2</td>\n",
       "    </tr>\n",
       "  </tbody>\n",
       "</table>\n",
       "</div>"
      ],
      "text/plain": [
       "     pass@1    pass@5   pass@10                     model\n",
       "0  0.395745  0.589412  0.638298    claude-3-opus-20240229\n",
       "0  0.072340  0.215805  0.319149                 codellama\n",
       "0  0.117021  0.287994  0.382979                gemini-pro\n",
       "0  0.282979  0.519504  0.617021        gpt-3.5-turbo-1106\n",
       "0  0.421277  0.641000  0.702128        gpt-4-1106-preview\n",
       "0  0.119149  0.249409  0.319149  Mistral-7B-Instruct-v0.2"
      ]
     },
     "execution_count": 4,
     "metadata": {},
     "output_type": "execute_result"
    }
   ],
   "source": [
    "# Drop the \"Unnamed: 0\" column from the dataframe\n",
    "df = df.drop(\"Unnamed: 0\", axis=1)\n",
    "\n",
    "df"
   ]
  },
  {
   "cell_type": "code",
   "execution_count": 5,
   "id": "e09d98ea-7fc8-4004-9382-f9a02765b052",
   "metadata": {},
   "outputs": [
    {
     "data": {
      "text/html": [
       "<div>\n",
       "<style scoped>\n",
       "    .dataframe tbody tr th:only-of-type {\n",
       "        vertical-align: middle;\n",
       "    }\n",
       "\n",
       "    .dataframe tbody tr th {\n",
       "        vertical-align: top;\n",
       "    }\n",
       "\n",
       "    .dataframe thead th {\n",
       "        text-align: right;\n",
       "    }\n",
       "</style>\n",
       "<table border=\"1\" class=\"dataframe\">\n",
       "  <thead>\n",
       "    <tr style=\"text-align: right;\">\n",
       "      <th>model</th>\n",
       "      <th>claude-3-opus-20240229</th>\n",
       "      <th>codellama</th>\n",
       "      <th>gemini-pro</th>\n",
       "      <th>gpt-3.5-turbo-1106</th>\n",
       "      <th>gpt-4-1106-preview</th>\n",
       "      <th>Mistral-7B-Instruct-v0.2</th>\n",
       "      <th>k</th>\n",
       "    </tr>\n",
       "  </thead>\n",
       "  <tbody>\n",
       "    <tr>\n",
       "      <th>pass@1</th>\n",
       "      <td>0.395745</td>\n",
       "      <td>0.072340</td>\n",
       "      <td>0.117021</td>\n",
       "      <td>0.282979</td>\n",
       "      <td>0.421277</td>\n",
       "      <td>0.119149</td>\n",
       "      <td>1</td>\n",
       "    </tr>\n",
       "    <tr>\n",
       "      <th>pass@5</th>\n",
       "      <td>0.589412</td>\n",
       "      <td>0.215805</td>\n",
       "      <td>0.287994</td>\n",
       "      <td>0.519504</td>\n",
       "      <td>0.641000</td>\n",
       "      <td>0.249409</td>\n",
       "      <td>5</td>\n",
       "    </tr>\n",
       "    <tr>\n",
       "      <th>pass@10</th>\n",
       "      <td>0.638298</td>\n",
       "      <td>0.319149</td>\n",
       "      <td>0.382979</td>\n",
       "      <td>0.617021</td>\n",
       "      <td>0.702128</td>\n",
       "      <td>0.319149</td>\n",
       "      <td>10</td>\n",
       "    </tr>\n",
       "  </tbody>\n",
       "</table>\n",
       "</div>"
      ],
      "text/plain": [
       "model    claude-3-opus-20240229  codellama  gemini-pro  gpt-3.5-turbo-1106  \\\n",
       "pass@1                 0.395745   0.072340    0.117021            0.282979   \n",
       "pass@5                 0.589412   0.215805    0.287994            0.519504   \n",
       "pass@10                0.638298   0.319149    0.382979            0.617021   \n",
       "\n",
       "model    gpt-4-1106-preview  Mistral-7B-Instruct-v0.2   k  \n",
       "pass@1             0.421277                  0.119149   1  \n",
       "pass@5             0.641000                  0.249409   5  \n",
       "pass@10            0.702128                  0.319149  10  "
      ]
     },
     "execution_count": 5,
     "metadata": {},
     "output_type": "execute_result"
    }
   ],
   "source": [
    "# Set the \"model\" column as the index and then transpose\n",
    "df_transposed = df.set_index('model').transpose()\n",
    "df_transposed['k'] = [1,5,10]\n",
    "df_transposed"
   ]
  },
  {
   "cell_type": "code",
   "execution_count": 6,
   "id": "aae3266d-e23f-4231-ab82-866dc60d3249",
   "metadata": {},
   "outputs": [
    {
     "data": {
      "image/png": "[encoded data removed]",
      "text/plain": [
       "<Figure size 640x480 with 1 Axes>"
      ]
     },
     "metadata": {},
     "output_type": "display_data"
    }
   ],
   "source": [
    "import matplotlib.pyplot as plt\n",
    "\n",
    "# Assuming 'k' is an index after transposition, let's reset the index first if not already done\n",
    "if 'k' not in df_transposed.columns:\n",
    "    df_transposed.reset_index(inplace=True)\n",
    "\n",
    "# Separate 'k' column for x-axis\n",
    "x = df_transposed['k']\n",
    "\n",
    "# Plot each column except 'k' against 'k'\n",
    "for column in df_transposed.columns:\n",
    "    if column != 'k':  # Avoid plotting 'k' against itself\n",
    "        plt.plot(x, df_transposed[column], label=column)\n",
    "\n",
    "# Adding plot decorations\n",
    "plt.xlabel('k')\n",
    "plt.ylabel('Pass rate')\n",
    "plt.title('Pass rates depending on k')\n",
    "plt.legend(title='LLMs', bbox_to_anchor=(1.05, 1), loc='upper left')\n",
    "plt.tight_layout()\n",
    "\n",
    "plt.show()"
   ]
  },
  {
   "cell_type": "code",
   "execution_count": null,
   "id": "f4d7420a-71f0-41f5-8fa0-a0156e3230ad",
   "metadata": {},
   "outputs": [],
   "source": []
  }
 ],
 "metadata": {
  "kernelspec": {
   "display_name": "Python 3 (ipykernel)",
   "language": "python",
   "name": "python3"
  },
  "language_info": {
   "codemirror_mode": {
    "name": "ipython",
    "version": 3
   },
   "file_extension": ".py",
   "mimetype": "text/x-python",
   "name": "python",
   "nbconvert_exporter": "python",
   "pygments_lexer": "ipython3",
   "version": "3.10.14"
  }
 },
 "nbformat": 4,
 "nbformat_minor": 5
}
